{
  "nbformat": 4,
  "nbformat_minor": 0,
  "metadata": {
    "colab": {
      "provenance": [],
      "gpuType": "T4",
      "toc_visible": true,
      "authorship_tag": "ABX9TyOBiQV/z0Ii9o+FysqrtgRi",
      "include_colab_link": true
    },
    "kernelspec": {
      "name": "python3",
      "display_name": "Python 3"
    },
    "language_info": {
      "name": "python"
    },
    "accelerator": "GPU"
  },
  "cells": [
    {
      "cell_type": "markdown",
      "metadata": {
        "id": "view-in-github",
        "colab_type": "text"
      },
      "source": [
        "<a href=\"https://colab.research.google.com/github/akashmeghwal/Bharat_intern/blob/master/Untitled0.ipynb\" target=\"_parent\"><img src=\"https://colab.research.google.com/assets/colab-badge.svg\" alt=\"Open In Colab\"/></a>"
      ]
    },
    {
      "cell_type": "code",
      "execution_count": 3,
      "metadata": {
        "id": "Y8iEoXpqt9zE"
      },
      "outputs": [],
      "source": [
        "!mkdir -p ~/.kaggle\n",
        "!cp kaggle.json ~/.kaggle"
      ]
    },
    {
      "cell_type": "code",
      "source": [
        "!kaggle datasets download -d ashishpatel26/facial-expression-recognitionferchallenge"
      ],
      "metadata": {
        "colab": {
          "base_uri": "https://localhost:8080/"
        },
        "id": "aFeewTqQvXVZ",
        "outputId": "50ba131e-ee47-462d-b48f-b54fab8a4888"
      },
      "execution_count": 4,
      "outputs": [
        {
          "output_type": "stream",
          "name": "stdout",
          "text": [
            "Warning: Your Kaggle API key is readable by other users on this system! To fix this, you can run 'chmod 600 /root/.kaggle/kaggle.json'\n",
            "Downloading facial-expression-recognitionferchallenge.zip to /content\n",
            " 96% 93.0M/96.6M [00:03<00:00, 30.1MB/s]\n",
            "100% 96.6M/96.6M [00:03<00:00, 28.9MB/s]\n"
          ]
        }
      ]
    },
    {
      "cell_type": "code",
      "source": [
        "import zipfile\n",
        "zip_ref = zipfile.ZipFile('/content/facial-expression-recognitionferchallenge.zip','r')\n",
        "zip_ref.extractall('/content')\n",
        "zip_ref.close()\n"
      ],
      "metadata": {
        "id": "mNb3kH1vvfTN"
      },
      "execution_count": 5,
      "outputs": []
    },
    {
      "cell_type": "code",
      "source": [
        "import matplotlib.pyplot as plt\n",
        "import numpy as np\n",
        "import scipy\n",
        "import pandas as pd\n",
        "df = pd.read_csv('/content/fer2013/fer2013/fer2013.csv')"
      ],
      "metadata": {
        "id": "TxLZmDiOvw9g"
      },
      "execution_count": 6,
      "outputs": []
    },
    {
      "cell_type": "code",
      "source": [
        "#preparing Data\n",
        "X_train = []\n",
        "y_train = []\n",
        "X_test = []\n",
        "y_test = []\n",
        "for index, row in df.iterrows():\n",
        "    k = row['pixels'].split(\" \")\n",
        "    if row['Usage'] == 'Training':\n",
        "        X_train.append(np.array(k))\n",
        "        y_train.append(row['emotion'])\n",
        "    elif row['Usage'] == 'PublicTest':\n",
        "        X_test.append(np.array(k))\n",
        "        y_test.append(row['emotion'])\n",
        "\n"
      ],
      "metadata": {
        "id": "vFahLrrawCTJ"
      },
      "execution_count": 7,
      "outputs": []
    },
    {
      "cell_type": "code",
      "source": [
        "X_train = np.array(X_train, dtype = 'uint8')\n",
        "y_train = np.array(y_train, dtype = 'uint8')\n",
        "X_test = np.array(X_test, dtype = 'uint8')\n",
        "y_test = np.array(y_test, dtype = 'uint8')"
      ],
      "metadata": {
        "id": "PKWhuu04wcs5"
      },
      "execution_count": 8,
      "outputs": []
    },
    {
      "cell_type": "code",
      "source": [
        "import keras\n",
        "from keras.utils import to_categorical\n",
        "y_train= to_categorical(y_train, num_classes=7)\n",
        "y_test = to_categorical(y_test, num_classes=7)"
      ],
      "metadata": {
        "id": "nMoOgqWfwegm"
      },
      "execution_count": 9,
      "outputs": []
    },
    {
      "cell_type": "code",
      "source": [
        "#Reshaping Data\n",
        "X_train = X_train.reshape(X_train.shape[0], 48, 48, 1)\n",
        "X_test = X_test.reshape(X_test.shape[0], 48, 48, 1)"
      ],
      "metadata": {
        "id": "iowq5-N7woYO"
      },
      "execution_count": 10,
      "outputs": []
    },
    {
      "cell_type": "code",
      "source": [
        "#Image Augmentation\n",
        "from keras.preprocessing.image import ImageDataGenerator\n",
        "datagen = ImageDataGenerator(\n",
        "    rescale=1./255,\n",
        "    rotation_range = 10,\n",
        "    horizontal_flip = True,\n",
        "    width_shift_range=0.1,\n",
        "    height_shift_range=0.1,\n",
        "    fill_mode = 'nearest')\n",
        "testgen = ImageDataGenerator(rescale=1./255)\n",
        "datagen.fit(X_train)\n",
        "batch_size = 64"
      ],
      "metadata": {
        "id": "_EEQoDTTwyiS"
      },
      "execution_count": 11,
      "outputs": []
    },
    {
      "cell_type": "code",
      "source": [
        "#deciding the Architecture of the model\n",
        "import tensorflow as tf\n",
        "from tensorflow import keras\n"
      ],
      "metadata": {
        "id": "SjydH4pEw8fQ"
      },
      "execution_count": 12,
      "outputs": []
    },
    {
      "cell_type": "code",
      "source": [
        "import keras_tuner as kt"
      ],
      "metadata": {
        "id": "-VVQ0jlrzcH-"
      },
      "execution_count": 14,
      "outputs": []
    },
    {
      "cell_type": "code",
      "source": [
        "from keras.utils import plot_model\n",
        "from keras.models import Model\n",
        "from keras.layers import Input, Dense, Flatten, Dropout, BatchNormalization\n",
        "from keras.layers.convolutional import Conv2D\n",
        "from keras.layers.pooling import MaxPooling2D\n",
        "from keras.optimizers import Adam, SGD\n",
        "from keras.regularizers import l1, l2\n",
        "from matplotlib import pyplot as plt\n",
        "from sklearn.metrics import confusion_matrix\n",
        "from keras_tuner import HyperModel"
      ],
      "metadata": {
        "id": "MIsr0KptV6Tj"
      },
      "execution_count": 19,
      "outputs": []
    },
    {
      "cell_type": "code",
      "source": [
        "class MyHyperModel(HyperModel):\n",
        "    def build_model(self, hp):\n",
        "        model = tf.keras.Sequential()\n",
        "        counter = 0\n",
        "        for i in range(hp.int('num_layers',min_value=1,max_value=15,step=8)):\n",
        "          if counter == 0:\n",
        "            model.add(Conv2D(\n",
        "            filters=hp.Int('filters'+str(i), min_value=60, max_value=1600, step=8),\n",
        "            kernel_size=hp.Choice('kernel_size'+str(i), values=[3, 5]),\n",
        "            activation=hp.choice('activation'+str(i),values=['relu','tanh','sigmoid','softmax']),\n",
        "            input_shape=(48, 48, 1)\n",
        "            )\n",
        "            BatchNormalization(),\n",
        "            Maxpooling2D(pooling_size=(2,2)),\n",
        "            Dropout(0.3))\n",
        "          else:\n",
        "              model.add(Conv2D(\n",
        "              filters=hp.Int('filters'+str(i), min_value=60, max_value=1600, step=8),\n",
        "              kernel_size=hp.Choice('kernel_size'+str(i), values=[3, 5]),\n",
        "              activation=hp.choice('activation'+str(i),values=['relu','tanh','sigmoid','softmax']),\n",
        "              input_shape=(48, 48, 1)\n",
        "               )\n",
        "              BatchNormalization(),\n",
        "              Maxpooling2D(pooling_size=(2,2)),\n",
        "              Dropout(0.3)\n",
        "              )\n",
        "        counter+=1\n",
        "        model.add(Flatten())\n",
        "        model.add(Dense(7,activation='softmax'))\n",
        "        model.compile(\n",
        "            optimizer=hp.choice('optimizer',values=['rmsprop','adam','sgd','nadam','adadelta']),\n",
        "            loss='categorical_classentropy',\n",
        "            metrics=['accuracy']\n",
        "        )\n",
        "        return model\n"
      ],
      "metadata": {
        "colab": {
          "base_uri": "https://localhost:8080/",
          "height": 130
        },
        "id": "IcCT95XP1S_M",
        "outputId": "91372167-31e3-45a3-9f63-16c0be41022d"
      },
      "execution_count": 23,
      "outputs": [
        {
          "output_type": "error",
          "ename": "SyntaxError",
          "evalue": "ignored",
          "traceback": [
            "\u001b[0;36m  File \u001b[0;32m\"<ipython-input-23-8decf4b725aa>\"\u001b[0;36m, line \u001b[0;32m7\u001b[0m\n\u001b[0;31m    model.add(Conv2D(\u001b[0m\n\u001b[0m              ^\u001b[0m\n\u001b[0;31mSyntaxError\u001b[0m\u001b[0;31m:\u001b[0m invalid syntax. Perhaps you forgot a comma?\n"
          ]
        }
      ]
    },
    {
      "cell_type": "code",
      "source": [],
      "metadata": {
        "id": "0OnOsEIZUBhR"
      },
      "execution_count": null,
      "outputs": []
    }
  ]
}