{
 "cells": [
  {
   "cell_type": "markdown",
   "id": "b1f09573",
   "metadata": {},
   "source": [
    "# Author - Akash Meghwal"
   ]
  },
  {
   "cell_type": "code",
   "execution_count": null,
   "id": "a98db503",
   "metadata": {},
   "outputs": [],
   "source": [
    "pip install translate\n"
   ]
  },
  {
   "cell_type": "markdown",
   "id": "2ef7bd85",
   "metadata": {},
   "source": [
    "## modules"
   ]
  },
  {
   "cell_type": "code",
   "execution_count": null,
   "id": "8558c6e4",
   "metadata": {},
   "outputs": [],
   "source": [
    "from tkinter import *\n",
    "from translate import Translator"
   ]
  },
  {
   "cell_type": "markdown",
   "id": "83feac5c",
   "metadata": {},
   "source": [
    "## dialog box"
   ]
  },
  {
   "cell_type": "code",
   "execution_count": null,
   "id": "17221161",
   "metadata": {},
   "outputs": [],
   "source": [
    "Screen = Tk()\n",
    "Screen.title(\"Language Translator with GUI by- TechVidvan\")\n",
    " \n",
    "InputLanguageChoice = StringVar()\n",
    "TranslateLanguageChoice = StringVar()\n"
   ]
  },
  {
   "cell_type": "code",
   "execution_count": null,
   "id": "74641477",
   "metadata": {},
   "outputs": [],
   "source": [
    "LanguageChoices = {'Hindi','English','French','German','Spanish'}\n",
    "InputLanguageChoice.set('English')\n",
    "TranslateLanguageChoice.set('Hindi')"
   ]
  },
  {
   "cell_type": "markdown",
   "id": "3f3b481a",
   "metadata": {},
   "source": [
    "## function"
   ]
  },
  {
   "cell_type": "code",
   "execution_count": null,
   "id": "abfd9e33",
   "metadata": {},
   "outputs": [],
   "source": [
    "def Translate():\n",
    "    translator = Translator(from_lang= InputLanguageChoice.get(),to_lang=TranslateLanguageChoice.get())\n",
    "    Translation = translator.translate(TextVar.get())\n",
    "    OutputVar.set(Translation)"
   ]
  },
  {
   "cell_type": "markdown",
   "id": "f5cecf9e",
   "metadata": {},
   "source": [
    "## input/output languages"
   ]
  },
  {
   "cell_type": "code",
   "execution_count": null,
   "id": "f4afb1e1",
   "metadata": {},
   "outputs": [],
   "source": [
    "#choice for input language\n",
    "InputLanguageChoiceMenu = OptionMenu(Screen,InputLanguageChoice,*LanguageChoices)\n",
    "Label(Screen,text=\"Choose a Language\").grid(row=0,column=1)\n",
    "InputLanguageChoiceMenu.grid(row=1,column=1)\n",
    " \n",
    "#choice in which the language is to be translated\n",
    "NewLanguageChoiceMenu = OptionMenu(Screen,TranslateLanguageChoice,*LanguageChoices)\n",
    "Label(Screen,text=\"Translated Language\").grid(row=0,column=2)\n",
    "NewLanguageChoiceMenu.grid(row=1,column=2)"
   ]
  },
  {
   "cell_type": "markdown",
   "id": "55a3324f",
   "metadata": {},
   "source": [
    "## process"
   ]
  },
  {
   "cell_type": "code",
   "execution_count": null,
   "id": "632001b7",
   "metadata": {},
   "outputs": [],
   "source": [
    "Label(Screen,text=\"Enter Text\").grid(row=2,column =0)\n",
    "TextVar = StringVar()\n",
    "TextBox = Entry(Screen,textvariable=TextVar).grid(row=2,column = 1)\n",
    " \n",
    "Label(Screen,text=\"Output Text\").grid(row=2,column =2)\n",
    "OutputVar = StringVar()\n",
    "TextBox = Entry(Screen,textvariable=OutputVar).grid(row=2,column = 3)\n",
    " \n",
    "#Button for calling function\n",
    "B = Button(Screen,text=\"Translate\",command=Translate, relief = GROOVE).grid(row=3,column=1,columnspan = 3)\n",
    " \n",
    "mainloop()"
   ]
  }
 ],
 "metadata": {
  "kernelspec": {
   "display_name": "Python 3 (ipykernel)",
   "language": "python",
   "name": "python3"
  },
  "language_info": {
   "codemirror_mode": {
    "name": "ipython",
    "version": 3
   },
   "file_extension": ".py",
   "mimetype": "text/x-python",
   "name": "python",
   "nbconvert_exporter": "python",
   "pygments_lexer": "ipython3",
   "version": "3.11.2"
  }
 },
 "nbformat": 4,
 "nbformat_minor": 5
}
