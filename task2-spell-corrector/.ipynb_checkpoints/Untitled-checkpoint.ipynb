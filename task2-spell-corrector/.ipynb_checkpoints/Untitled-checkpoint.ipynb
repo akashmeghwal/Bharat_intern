{
 "cells": [
  {
   "cell_type": "markdown",
   "id": "41e9f8a3",
   "metadata": {},
   "source": [
    "# Author - Akash Meghwal"
   ]
  },
  {
   "cell_type": "code",
   "execution_count": 16,
   "id": "8fffc278",
   "metadata": {},
   "outputs": [],
   "source": [
    "from tkinter import *\n",
    "from textblob import TextBlob\n"
   ]
  },
  {
   "cell_type": "code",
   "execution_count": 17,
   "id": "7c1916cc",
   "metadata": {},
   "outputs": [],
   "source": [
    "# Function to clear both the text entry boxes\n",
    "def clearAll():\n",
    "\n",
    "\t# whole content of text entry area is deleted\n",
    "\tword1_field.delete(0, END)\n",
    "\tword2_field.delete(0, END)\n"
   ]
  },
  {
   "cell_type": "code",
   "execution_count": 18,
   "id": "49abaddf",
   "metadata": {},
   "outputs": [],
   "source": [
    "def correction():\n",
    "\n",
    "\t# get a content from entry box\n",
    "\tinput_word = word1_field.get()\n",
    "\n",
    "\t# create a TextBlob object\n",
    "\tblob_obj = TextBlob(input_word)\n",
    "\n",
    "\t# get a corrected word\n",
    "\tcorrected_word = str(blob_obj.correct())\n",
    "\n",
    "\t# insert method inserting the\n",
    "\t# value in the text entry box.\n",
    "\tword2_field.insert(10, corrected_word)"
   ]
  },
  {
   "cell_type": "code",
   "execution_count": 25,
   "id": "934d409d",
   "metadata": {},
   "outputs": [],
   "source": [
    "# Driver code\n",
    "if __name__ == \"__main__\":\n",
    "\n",
    "\t# Create a GUI window\n",
    "\troot = Tk()\n",
    "\n",
    "\t# Set the background colour of GUI window\n",
    "\troot.configure(background='black')\n",
    "\n",
    "\t# Set the configuration of GUI window (WidthxHeight)\n",
    "\troot.geometry(\"400x150\")\n",
    "\n",
    "\t# set the name of tkinter GUI window\n",
    "\troot.title(\"Auto Corrector\")\n",
    "\n",
    "\t# Create Welcome to Spell Corrector Application: label\n",
    "\theadlabel = Label(root, text='Welcome to Auto Corrector',\n",
    "\t\t\t\t\tfg='white', bg=\"orange\")\n",
    "\n",
    "\t# Create a \"Input Word\": label\n",
    "\tlabel1 = Label(root, text=\"Input Word\",\n",
    "\t\t\t\tfg='black', bg='light green')\n",
    "\n",
    "\t# Create a \"Corrected Word\": label\n",
    "\tlabel2 = Label(root, text=\"Corrected Word\",\n",
    "\t\t\t\tfg='black', bg='light green')\n",
    "\n",
    "\t# padx keyword argument used to set padding along x-axis .\n",
    "\theadlabel.grid(row=0, column=1)\n",
    "\tlabel1.grid(row=1, column=0)\n",
    "\tlabel2.grid(row=3, column=0, padx=10)\n",
    "\n",
    "\t# Create a text entry box\n",
    "\tword1_field = Entry()\n",
    "\tword2_field = Entry()\n",
    "\n",
    "\t# padx keyword argument used to set padding along x-y-axises .\n",
    "\tword1_field.grid(row=1, column=1, padx=10, pady=10)\n",
    "\tword2_field.grid(row=3, column=1, padx=10, pady=10)\n",
    "\n",
    "\t# Create a Correction Button and attached\n",
    "\n",
    "\tbutton1 = Button(root, text=\"Correction\", bg=\"blue\", fg=\"white\",\n",
    "\t\t\t\t\tcommand=correction)\n",
    "\n",
    "\tbutton1.grid(row=2, column=1)\n",
    "\n",
    "\t# Create a Clear Button and attached\n",
    "\tbutton2 = Button(root, text=\"Clear\", bg=\"blue\",\n",
    "\t\t\t\t\tfg=\"white\", command=clearAll)\n",
    "\n",
    "\tbutton2.grid(row=4, column=1)\n",
    "\n",
    "\t# Start the GUI\n",
    "\troot.mainloop()"
   ]
  },
  {
   "cell_type": "code",
   "execution_count": null,
   "id": "dc696730",
   "metadata": {},
   "outputs": [],
   "source": []
  }
 ],
 "metadata": {
  "kernelspec": {
   "display_name": "Python 3 (ipykernel)",
   "language": "python",
   "name": "python3"
  },
  "language_info": {
   "codemirror_mode": {
    "name": "ipython",
    "version": 3
   },
   "file_extension": ".py",
   "mimetype": "text/x-python",
   "name": "python",
   "nbconvert_exporter": "python",
   "pygments_lexer": "ipython3",
   "version": "3.11.2"
  }
 },
 "nbformat": 4,
 "nbformat_minor": 5
}
